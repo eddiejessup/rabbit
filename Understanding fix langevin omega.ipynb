{
 "metadata": {
  "name": "",
  "signature": "sha256:2e9ee5212a3a93138e9f6a48d6ac25f2e5cb171ec6b0118cc60aa2eb02886b72"
 },
 "nbformat": 3,
 "nbformat_minor": 0,
 "worksheets": [
  {
   "cells": [
    {
     "cell_type": "markdown",
     "metadata": {},
     "source": [
      "Relevant lines in LAMMPS code for calculation of gamma:"
     ]
    },
    {
     "cell_type": "raw",
     "metadata": {},
     "source": [
      "#define SINERTIA 0.4 moment of inertia prefactor for sphere\n",
      "inertiaone = SINERTIA * radius[i] * radius[i] * rmass[i];\n",
      "t_period = force->numeric(FLERR,arg[5]);\n",
      "gamma2 = tsqrt * sqrt(7.2 * inertiaone * boltz / (t_period * dt * mvv2e)) / ftm2v;\n",
      "gamma2 /= sqrt(ratio[type[i]]);"
     ]
    },
    {
     "cell_type": "markdown",
     "metadata": {},
     "source": [
      "$\\gamma = \\dfrac{1}{\\sqrt{r_i}} \\dfrac{1}{(\\mathrm{ftm2v})} \\sqrt{\\dfrac{7.2 I k_b T}{\\tau \\mathrm{dt} (\\mathrm{mvv2e})}}$\n",
      "\n",
      "Have determined values of variables by printing them to the screen via fprintf(screen, ...).\n",
      "\n",
      "- radius = 0.5\n",
      "- rmass = 1\n",
      "- boltz = 1. Presumably boltzmann factor in current units.\n",
      "- t_period = 1. arg[5] is position of damping time. Kept at 1 in overdamped code, because Joakim says so and it makes sense.\n",
      "- dt = 0.00005\n",
      "- ftm2v = 1. From https://sites.google.com/site/scienceuprising/code-packages/lammps/a-dissection-of-lammps-classes, unit conversion factor.\n",
      "- mvv2e = 1. See ftm2v\n",
      "- tsqrt = 0.489898. Square root of the Langevin temperature\n",
      "- ratio[type[i]] = 1. Can't be sure but I think the aspect ratio of the sphere-like particle."
     ]
    },
    {
     "cell_type": "markdown",
     "metadata": {},
     "source": [
      "Must make a similar equation for the athermal gamma.\n",
      "\n",
      "$k_b T$ term should not be there since contribution is not from thermal fluctuations.\n",
      "\n",
      "Replace by input energy?\n",
      "\n",
      "$\\gamma_\\mathrm{ath} = \\dfrac{1}{\\sqrt{r_i}} \\dfrac{1}{(\\mathrm{ftm2v})} \\sqrt{\\dfrac{7.2 I E_\\mathrm{ath}}{\\tau \\mathrm{dt} (\\mathrm{mvv2e})}}$\n"
     ]
    },
    {
     "cell_type": "code",
     "collapsed": false,
     "input": [
      "# Lennard-Jones units\n",
      "radius = 0.5\n",
      "mass = 1.0\n",
      "mvv2e = 1.0\n",
      "ftm2v = 1.0\n",
      "k_b = 1.0\n",
      "\n",
      "# Inertia\n",
      "ratio = 1.0\n",
      "sphere_inertia_prefactor = 0.4\n",
      "I = sphere_inertia_prefactor * radius ** 2 * mass\n",
      "\n",
      "# Simulation\n",
      "dt = 0.00005\n",
      "\n",
      "# Overdamped\n",
      "t_damp = 1.0\n",
      "\n",
      "# Thermal\n",
      "T = 0.489898 ** 2\n",
      "E_th = k_b * T\n",
      "\n",
      "# Athermal\n",
      "E_ath = 0.0\n",
      "\n",
      "def gamma(E, I, dt):\n",
      "    return np.sqrt(7.2 * I * E / (t_damp * dt * mvv2e)) / ftm2v / ratio\n",
      "\n",
      "g_th = gamma(E_th, I, dt)\n",
      "\n",
      "g_ath = gamma(E_ath, I, dt)\n",
      "\n",
      "print(E_th)\n",
      "print(g_ath)"
     ],
     "language": "python",
     "metadata": {},
     "outputs": [
      {
       "output_type": "stream",
       "stream": "stdout",
       "text": [
        "0.240000050404\n",
        "0.0\n"
       ]
      }
     ],
     "prompt_number": 5
    }
   ],
   "metadata": {}
  }
 ]
}